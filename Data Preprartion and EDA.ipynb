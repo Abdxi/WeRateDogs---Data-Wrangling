{
 "cells": [
  {
   "cell_type": "markdown",
   "metadata": {},
   "source": [
    "# WeRateDogs Wrangle Project\n",
    "By Abdelrahman Mohsen"
   ]
  },
  {
   "cell_type": "markdown",
   "metadata": {},
   "source": [
    "# Table of contents\n",
    "- [Gathering Process](#gath)\n",
    "- [Assessing Process](#asses)\n",
    "    - [Quality issues](#q-s)\n",
    "    - [Tidiness issues](#t-s)\n",
    "- [Cleaning Process ](#clean)\n",
    "- [Analysis and Visualization ](#visu)"
   ]
  },
  {
   "cell_type": "markdown",
   "metadata": {},
   "source": [
    "## Gathering Process\n",
    "<a id=\"gath\"></a>\n",
    "In this process we will gather data from three sources(csv file - tsv file - twitter API) creating dataframes\n",
    "that are ready for assessing and cleaning steps.\n",
    "We will do so in three steps:\n",
    "1. Read the csv file and make dataframe for it\n",
    "2. Download the image predictions file programmatically through requests then creat its dataframe\n",
    "3. Creat a text file with useful data retrieved from tweepy API then read this text file line by line to creat dataframe\n",
    "\n",
    "###### Input:\n",
    "- twitter_archive_enhanced.csv\n",
    "- image_predictions.tsv\n",
    "- Data from twitter API\n",
    "\n",
    "###### Output:\n",
    "- DataFrame for twitter archive data\n",
    "- DataFrame for image prediction data\n",
    "- DataFrame for twitter API data\n",
    "- Tweet_json.txt\n",
    "- image-predictions.tsv"
   ]
  },
  {
   "cell_type": "code",
   "execution_count": null,
   "metadata": {},
   "outputs": [],
   "source": [
    "#import required modules\n",
    "import pandas as pd\n",
    "import numpy as np\n",
    "import re\n",
    "import requests\n",
    "import tweepy\n",
    "from tweepy import OAuthHandler\n",
    "from timeit import default_timer as timer\n",
    "import os\n",
    "import json\n",
    "import datetime\n",
    "import matplotlib.pyplot as plt\n",
    "\n",
    "%matplotlib inline\n",
    "\n",
    "#set options to show all dataframe rows for visual assessment\n",
    "pd.set_option('display.max_colwidth', -1)\n",
    "pd.set_option(\"display.max_rows\", None, \"display.max_columns\", None) "
   ]
  },
  {
   "cell_type": "code",
   "execution_count": null,
   "metadata": {},
   "outputs": [],
   "source": [
    "#Create a dataframe form csv file\n",
    "archive_df = pd.read_csv('twitter-archive-enhanced.csv')"
   ]
  },
  {
   "cell_type": "code",
   "execution_count": 49,
   "metadata": {},
   "outputs": [],
   "source": [
    "#download image predictions data from a URL using requests\n",
    "url = 'https://d17h27t6h515a5.cloudfront.net/topher/2017/August/599fd2ad_image-predictions/image-predictions.tsv' \n",
    "\n",
    "#get the file name from the url\n",
    "file_name = url.split('/')[-1]\n",
    "\n",
    "#use requests to download the file\n",
    "response = requests.get(url)\n",
    "if not os.path.isfile(file_name):\n",
    "    with open(file_name,'wb') as file:\n",
    "        file.write(response.content)\n",
    "        \n",
    "#read the created tsv file and load its data to a dataframe   \n",
    "img_df = pd.read_csv(file_name, sep='\\t')"
   ]
  },
  {
   "cell_type": "code",
   "execution_count": null,
   "metadata": {},
   "outputs": [],
   "source": [
    "# Query Twitter API for each tweet in the Twitter archive and save JSON in a text file\n",
    "# These are hidden to comply with Twitter's API terms and conditions\n",
    "consumer_key = 'HIDDEN'\n",
    "consumer_secret = 'HIDDEN'\n",
    "access_token = 'HIDDEN'\n",
    "access_secret = 'HIDDEN'\n",
    "\n",
    "auth = OAuthHandler(consumer_key, consumer_secret)\n",
    "auth.set_access_token(access_token, access_secret)\n",
    "\n",
    "api = tweepy.API(auth, wait_on_rate_limit=True)\n",
    "\n",
    "# NOTE TO STUDENT WITH MOBILE VERIFICATION ISSUES:\n",
    "# df_1 is a DataFrame with the twitter_archive_enhanced.csv file. You may have to\n",
    "# change line 17 to match the name of your DataFrame with twitter_archive_enhanced.csv\n",
    "# NOTE TO REVIEWER: this student had mobile verification issues so the following\n",
    "# Twitter API code was sent to this student from a Udacity instructor\n",
    "# Tweet IDs for which to gather additional data via Twitter's API\n",
    "tweet_ids = archive_df.tweet_id.values\n",
    "len(tweet_ids)\n",
    "\n",
    "# Query Twitter's API for JSON data for each tweet ID in the Twitter archive\n",
    "count = 0\n",
    "fails_dict = {}\n",
    "start = timer()\n",
    "\n",
    "# Save each tweet's returned JSON as a new line in a .txt file\n",
    "with open('tweet_json.txt', 'w') as outfile:\n",
    "    # This loop will likely take 20-30 minutes to run because of Twitter's rate limit\n",
    "    for tweet_id in tweet_ids:\n",
    "        count += 1\n",
    "        print(str(count) + \": \" + str(tweet_id))\n",
    "        try:\n",
    "            tweet = api.get_status(tweet_id, tweet_mode='extended')\n",
    "            print(\"Success\")\n",
    "            json.dump(tweet._json, outfile)\n",
    "            outfile.write('\\n')\n",
    "        except tweepy.TweepError as e:\n",
    "            print(\"Fail\")\n",
    "            fails_dict[tweet_id] = e\n",
    "            pass\n",
    "end = timer()\n",
    "print(end - start)\n",
    "print(fails_dict)"
   ]
  },
  {
   "cell_type": "code",
   "execution_count": 50,
   "metadata": {},
   "outputs": [],
   "source": [
    "#extract data from the file we created using twitter API to put in a dataframe\n",
    "df_list = []\n",
    "\n",
    "#open tweet-jason.txt file\n",
    "with open('tweet-json.txt', 'r') as file:\n",
    "    #read every line in the file\n",
    "    for line in file:\n",
    "        tweet = json.loads(line)\n",
    "        tweet_id = tweet['id']\n",
    "        retweet_count = tweet['retweet_count']\n",
    "        fav_count = tweet['favorite_count']\n",
    "        \n",
    "        # Append to list of dictionaries\n",
    "        df_list.append({'tweet_id':tweet_id,\n",
    "                       'retweet_count': retweet_count,\n",
    "                       'favorite_count': fav_count})\n",
    "        \n",
    "api_df = pd.DataFrame(df_list)"
   ]
  },
  {
   "cell_type": "markdown",
   "metadata": {},
   "source": [
    "## Assessing Process\n",
    "<a id=\"asses\"></a>\n",
    "In this process we will assess the dataframes we created above visually and programmatically for quality and tidiness issues.\n",
    "We will extract eight (8) quality issues and two (2) tidiness issues\n"
   ]
  },
  {
   "cell_type": "markdown",
   "metadata": {},
   "source": [
    "As we can see from the visual and programtic assessment below we can summary the issues in our data:\n",
    "\n",
    "### Quality issues\n",
    "<a id=\"q-s\"></a>\n",
    "#### archive dataframe\n",
    "\n",
    "- source column need to be cleaned from tags and url taht not related \n",
    "- date and time need to be in datetime object\n",
    "- drop rows with no images\n",
    "- drop replies tweets \n",
    "- drop retweets\n",
    "- change None values in doggo, floofer,\tpupper and puppo columns to empty string\n",
    "- rating numerator column must be float\n",
    "- correct wrong values of rating_numerator and rating_denominator\n",
    "\n",
    "\n",
    "\n",
    "\n",
    "### Tidiness issues\n",
    "<a id=\"t-s\"></a>\n",
    "#### archive dataframe\n",
    "- doggo, floofer, pupper and puppo need to be one column\n",
    "\n",
    "\n",
    "#### image predictions dataframe\n",
    "- merging image prediction dataframe with archive dataframe "
   ]
  },
  {
   "cell_type": "code",
   "execution_count": 51,
   "metadata": {},
   "outputs": [
    {
     "data": {
      "text/html": [
       "<div>\n",
       "<style scoped>\n",
       "    .dataframe tbody tr th:only-of-type {\n",
       "        vertical-align: middle;\n",
       "    }\n",
       "\n",
       "    .dataframe tbody tr th {\n",
       "        vertical-align: top;\n",
       "    }\n",
       "\n",
       "    .dataframe thead th {\n",
       "        text-align: right;\n",
       "    }\n",
       "</style>\n",
       "<table border=\"1\" class=\"dataframe\">\n",
       "  <thead>\n",
       "    <tr style=\"text-align: right;\">\n",
       "      <th></th>\n",
       "      <th>tweet_id</th>\n",
       "      <th>in_reply_to_status_id</th>\n",
       "      <th>in_reply_to_user_id</th>\n",
       "      <th>timestamp</th>\n",
       "      <th>source</th>\n",
       "      <th>text</th>\n",
       "      <th>retweeted_status_id</th>\n",
       "      <th>retweeted_status_user_id</th>\n",
       "      <th>retweeted_status_timestamp</th>\n",
       "      <th>expanded_urls</th>\n",
       "      <th>rating_numerator</th>\n",
       "      <th>rating_denominator</th>\n",
       "      <th>name</th>\n",
       "      <th>doggo</th>\n",
       "      <th>floofer</th>\n",
       "      <th>pupper</th>\n",
       "      <th>puppo</th>\n",
       "    </tr>\n",
       "  </thead>\n",
       "  <tbody>\n",
       "    <tr>\n",
       "      <th>0</th>\n",
       "      <td>892420643555336193</td>\n",
       "      <td>NaN</td>\n",
       "      <td>NaN</td>\n",
       "      <td>2017-08-01 16:23:56 +0000</td>\n",
       "      <td>&lt;a href=\"http://twitter.com/download/iphone\" rel=\"nofollow\"&gt;Twitter for iPhone&lt;/a&gt;</td>\n",
       "      <td>This is Phineas. He's a mystical boy. Only ever appears in the hole of a donut. 13/10 https://t.co/MgUWQ76dJU</td>\n",
       "      <td>NaN</td>\n",
       "      <td>NaN</td>\n",
       "      <td>NaN</td>\n",
       "      <td>https://twitter.com/dog_rates/status/892420643555336193/photo/1</td>\n",
       "      <td>13</td>\n",
       "      <td>10</td>\n",
       "      <td>Phineas</td>\n",
       "      <td>None</td>\n",
       "      <td>None</td>\n",
       "      <td>None</td>\n",
       "      <td>None</td>\n",
       "    </tr>\n",
       "    <tr>\n",
       "      <th>1</th>\n",
       "      <td>892177421306343426</td>\n",
       "      <td>NaN</td>\n",
       "      <td>NaN</td>\n",
       "      <td>2017-08-01 00:17:27 +0000</td>\n",
       "      <td>&lt;a href=\"http://twitter.com/download/iphone\" rel=\"nofollow\"&gt;Twitter for iPhone&lt;/a&gt;</td>\n",
       "      <td>This is Tilly. She's just checking pup on you. Hopes you're doing ok. If not, she's available for pats, snugs, boops, the whole bit. 13/10 https://t.co/0Xxu71qeIV</td>\n",
       "      <td>NaN</td>\n",
       "      <td>NaN</td>\n",
       "      <td>NaN</td>\n",
       "      <td>https://twitter.com/dog_rates/status/892177421306343426/photo/1</td>\n",
       "      <td>13</td>\n",
       "      <td>10</td>\n",
       "      <td>Tilly</td>\n",
       "      <td>None</td>\n",
       "      <td>None</td>\n",
       "      <td>None</td>\n",
       "      <td>None</td>\n",
       "    </tr>\n",
       "    <tr>\n",
       "      <th>2</th>\n",
       "      <td>891815181378084864</td>\n",
       "      <td>NaN</td>\n",
       "      <td>NaN</td>\n",
       "      <td>2017-07-31 00:18:03 +0000</td>\n",
       "      <td>&lt;a href=\"http://twitter.com/download/iphone\" rel=\"nofollow\"&gt;Twitter for iPhone&lt;/a&gt;</td>\n",
       "      <td>This is Archie. He is a rare Norwegian Pouncing Corgo. Lives in the tall grass. You never know when one may strike. 12/10 https://t.co/wUnZnhtVJB</td>\n",
       "      <td>NaN</td>\n",
       "      <td>NaN</td>\n",
       "      <td>NaN</td>\n",
       "      <td>https://twitter.com/dog_rates/status/891815181378084864/photo/1</td>\n",
       "      <td>12</td>\n",
       "      <td>10</td>\n",
       "      <td>Archie</td>\n",
       "      <td>None</td>\n",
       "      <td>None</td>\n",
       "      <td>None</td>\n",
       "      <td>None</td>\n",
       "    </tr>\n",
       "    <tr>\n",
       "      <th>3</th>\n",
       "      <td>891689557279858688</td>\n",
       "      <td>NaN</td>\n",
       "      <td>NaN</td>\n",
       "      <td>2017-07-30 15:58:51 +0000</td>\n",
       "      <td>&lt;a href=\"http://twitter.com/download/iphone\" rel=\"nofollow\"&gt;Twitter for iPhone&lt;/a&gt;</td>\n",
       "      <td>This is Darla. She commenced a snooze mid meal. 13/10 happens to the best of us https://t.co/tD36da7qLQ</td>\n",
       "      <td>NaN</td>\n",
       "      <td>NaN</td>\n",
       "      <td>NaN</td>\n",
       "      <td>https://twitter.com/dog_rates/status/891689557279858688/photo/1</td>\n",
       "      <td>13</td>\n",
       "      <td>10</td>\n",
       "      <td>Darla</td>\n",
       "      <td>None</td>\n",
       "      <td>None</td>\n",
       "      <td>None</td>\n",
       "      <td>None</td>\n",
       "    </tr>\n",
       "    <tr>\n",
       "      <th>4</th>\n",
       "      <td>891327558926688256</td>\n",
       "      <td>NaN</td>\n",
       "      <td>NaN</td>\n",
       "      <td>2017-07-29 16:00:24 +0000</td>\n",
       "      <td>&lt;a href=\"http://twitter.com/download/iphone\" rel=\"nofollow\"&gt;Twitter for iPhone&lt;/a&gt;</td>\n",
       "      <td>This is Franklin. He would like you to stop calling him \"cute.\" He is a very fierce shark and should be respected as such. 12/10 #BarkWeek https://t.co/AtUZn91f7f</td>\n",
       "      <td>NaN</td>\n",
       "      <td>NaN</td>\n",
       "      <td>NaN</td>\n",
       "      <td>https://twitter.com/dog_rates/status/891327558926688256/photo/1,https://twitter.com/dog_rates/status/891327558926688256/photo/1</td>\n",
       "      <td>12</td>\n",
       "      <td>10</td>\n",
       "      <td>Franklin</td>\n",
       "      <td>None</td>\n",
       "      <td>None</td>\n",
       "      <td>None</td>\n",
       "      <td>None</td>\n",
       "    </tr>\n",
       "  </tbody>\n",
       "</table>\n",
       "</div>"
      ],
      "text/plain": [
       "             tweet_id  in_reply_to_status_id  in_reply_to_user_id  \\\n",
       "0  892420643555336193 NaN                    NaN                    \n",
       "1  892177421306343426 NaN                    NaN                    \n",
       "2  891815181378084864 NaN                    NaN                    \n",
       "3  891689557279858688 NaN                    NaN                    \n",
       "4  891327558926688256 NaN                    NaN                    \n",
       "\n",
       "                   timestamp  \\\n",
       "0  2017-08-01 16:23:56 +0000   \n",
       "1  2017-08-01 00:17:27 +0000   \n",
       "2  2017-07-31 00:18:03 +0000   \n",
       "3  2017-07-30 15:58:51 +0000   \n",
       "4  2017-07-29 16:00:24 +0000   \n",
       "\n",
       "                                                                               source  \\\n",
       "0  <a href=\"http://twitter.com/download/iphone\" rel=\"nofollow\">Twitter for iPhone</a>   \n",
       "1  <a href=\"http://twitter.com/download/iphone\" rel=\"nofollow\">Twitter for iPhone</a>   \n",
       "2  <a href=\"http://twitter.com/download/iphone\" rel=\"nofollow\">Twitter for iPhone</a>   \n",
       "3  <a href=\"http://twitter.com/download/iphone\" rel=\"nofollow\">Twitter for iPhone</a>   \n",
       "4  <a href=\"http://twitter.com/download/iphone\" rel=\"nofollow\">Twitter for iPhone</a>   \n",
       "\n",
       "                                                                                                                                                                 text  \\\n",
       "0  This is Phineas. He's a mystical boy. Only ever appears in the hole of a donut. 13/10 https://t.co/MgUWQ76dJU                                                        \n",
       "1  This is Tilly. She's just checking pup on you. Hopes you're doing ok. If not, she's available for pats, snugs, boops, the whole bit. 13/10 https://t.co/0Xxu71qeIV   \n",
       "2  This is Archie. He is a rare Norwegian Pouncing Corgo. Lives in the tall grass. You never know when one may strike. 12/10 https://t.co/wUnZnhtVJB                    \n",
       "3  This is Darla. She commenced a snooze mid meal. 13/10 happens to the best of us https://t.co/tD36da7qLQ                                                              \n",
       "4  This is Franklin. He would like you to stop calling him \"cute.\" He is a very fierce shark and should be respected as such. 12/10 #BarkWeek https://t.co/AtUZn91f7f   \n",
       "\n",
       "   retweeted_status_id  retweeted_status_user_id retweeted_status_timestamp  \\\n",
       "0 NaN                  NaN                        NaN                         \n",
       "1 NaN                  NaN                        NaN                         \n",
       "2 NaN                  NaN                        NaN                         \n",
       "3 NaN                  NaN                        NaN                         \n",
       "4 NaN                  NaN                        NaN                         \n",
       "\n",
       "                                                                                                                     expanded_urls  \\\n",
       "0  https://twitter.com/dog_rates/status/892420643555336193/photo/1                                                                   \n",
       "1  https://twitter.com/dog_rates/status/892177421306343426/photo/1                                                                   \n",
       "2  https://twitter.com/dog_rates/status/891815181378084864/photo/1                                                                   \n",
       "3  https://twitter.com/dog_rates/status/891689557279858688/photo/1                                                                   \n",
       "4  https://twitter.com/dog_rates/status/891327558926688256/photo/1,https://twitter.com/dog_rates/status/891327558926688256/photo/1   \n",
       "\n",
       "   rating_numerator  rating_denominator      name doggo floofer pupper puppo  \n",
       "0  13                10                  Phineas   None  None    None   None  \n",
       "1  13                10                  Tilly     None  None    None   None  \n",
       "2  12                10                  Archie    None  None    None   None  \n",
       "3  13                10                  Darla     None  None    None   None  \n",
       "4  12                10                  Franklin  None  None    None   None  "
      ]
     },
     "execution_count": 51,
     "metadata": {},
     "output_type": "execute_result"
    }
   ],
   "source": [
    "#visualize twitter archive df\n",
    "archive_df.head()"
   ]
  },
  {
   "cell_type": "code",
   "execution_count": 52,
   "metadata": {},
   "outputs": [
    {
     "name": "stdout",
     "output_type": "stream",
     "text": [
      "<class 'pandas.core.frame.DataFrame'>\n",
      "RangeIndex: 2356 entries, 0 to 2355\n",
      "Data columns (total 17 columns):\n",
      " #   Column                      Non-Null Count  Dtype  \n",
      "---  ------                      --------------  -----  \n",
      " 0   tweet_id                    2356 non-null   int64  \n",
      " 1   in_reply_to_status_id       78 non-null     float64\n",
      " 2   in_reply_to_user_id         78 non-null     float64\n",
      " 3   timestamp                   2356 non-null   object \n",
      " 4   source                      2356 non-null   object \n",
      " 5   text                        2356 non-null   object \n",
      " 6   retweeted_status_id         181 non-null    float64\n",
      " 7   retweeted_status_user_id    181 non-null    float64\n",
      " 8   retweeted_status_timestamp  181 non-null    object \n",
      " 9   expanded_urls               2297 non-null   object \n",
      " 10  rating_numerator            2356 non-null   int64  \n",
      " 11  rating_denominator          2356 non-null   int64  \n",
      " 12  name                        2356 non-null   object \n",
      " 13  doggo                       2356 non-null   object \n",
      " 14  floofer                     2356 non-null   object \n",
      " 15  pupper                      2356 non-null   object \n",
      " 16  puppo                       2356 non-null   object \n",
      "dtypes: float64(4), int64(3), object(10)\n",
      "memory usage: 313.0+ KB\n"
     ]
    }
   ],
   "source": [
    "#get a look at archive dataframe summary\n",
    "archive_df.info()"
   ]
  },
  {
   "cell_type": "code",
   "execution_count": 53,
   "metadata": {},
   "outputs": [
    {
     "data": {
      "text/plain": [
       "doggo      97 \n",
       "floofer    10 \n",
       "pupper     257\n",
       "puppo      30 \n",
       "dtype: int64"
      ]
     },
     "execution_count": 53,
     "metadata": {},
     "output_type": "execute_result"
    }
   ],
   "source": [
    "# show how many not Nan values in the last four columns \n",
    "(archive_df.loc[:, 'doggo':\"puppo\"] != 'None') .sum()"
   ]
  },
  {
   "cell_type": "code",
   "execution_count": 54,
   "metadata": {},
   "outputs": [
    {
     "name": "stdout",
     "output_type": "stream",
     "text": [
      "(20, 17)\n"
     ]
    }
   ],
   "source": [
    "#get a look at outbounded rates\n",
    "archive_df[archive_df.rating_denominator > 10]\n",
    "print(archive_df[archive_df.rating_denominator > 10].shape)"
   ]
  },
  {
   "cell_type": "code",
   "execution_count": 55,
   "metadata": {},
   "outputs": [
    {
     "data": {
      "text/html": [
       "<div>\n",
       "<style scoped>\n",
       "    .dataframe tbody tr th:only-of-type {\n",
       "        vertical-align: middle;\n",
       "    }\n",
       "\n",
       "    .dataframe tbody tr th {\n",
       "        vertical-align: top;\n",
       "    }\n",
       "\n",
       "    .dataframe thead th {\n",
       "        text-align: right;\n",
       "    }\n",
       "</style>\n",
       "<table border=\"1\" class=\"dataframe\">\n",
       "  <thead>\n",
       "    <tr style=\"text-align: right;\">\n",
       "      <th></th>\n",
       "      <th>tweet_id</th>\n",
       "      <th>jpg_url</th>\n",
       "      <th>img_num</th>\n",
       "      <th>p1</th>\n",
       "      <th>p1_conf</th>\n",
       "      <th>p1_dog</th>\n",
       "      <th>p2</th>\n",
       "      <th>p2_conf</th>\n",
       "      <th>p2_dog</th>\n",
       "      <th>p3</th>\n",
       "      <th>p3_conf</th>\n",
       "      <th>p3_dog</th>\n",
       "    </tr>\n",
       "  </thead>\n",
       "  <tbody>\n",
       "    <tr>\n",
       "      <th>0</th>\n",
       "      <td>666020888022790149</td>\n",
       "      <td>https://pbs.twimg.com/media/CT4udn0WwAA0aMy.jpg</td>\n",
       "      <td>1</td>\n",
       "      <td>Welsh_springer_spaniel</td>\n",
       "      <td>0.465074</td>\n",
       "      <td>True</td>\n",
       "      <td>collie</td>\n",
       "      <td>0.156665</td>\n",
       "      <td>True</td>\n",
       "      <td>Shetland_sheepdog</td>\n",
       "      <td>0.061428</td>\n",
       "      <td>True</td>\n",
       "    </tr>\n",
       "    <tr>\n",
       "      <th>1</th>\n",
       "      <td>666029285002620928</td>\n",
       "      <td>https://pbs.twimg.com/media/CT42GRgUYAA5iDo.jpg</td>\n",
       "      <td>1</td>\n",
       "      <td>redbone</td>\n",
       "      <td>0.506826</td>\n",
       "      <td>True</td>\n",
       "      <td>miniature_pinscher</td>\n",
       "      <td>0.074192</td>\n",
       "      <td>True</td>\n",
       "      <td>Rhodesian_ridgeback</td>\n",
       "      <td>0.072010</td>\n",
       "      <td>True</td>\n",
       "    </tr>\n",
       "    <tr>\n",
       "      <th>2</th>\n",
       "      <td>666033412701032449</td>\n",
       "      <td>https://pbs.twimg.com/media/CT4521TWwAEvMyu.jpg</td>\n",
       "      <td>1</td>\n",
       "      <td>German_shepherd</td>\n",
       "      <td>0.596461</td>\n",
       "      <td>True</td>\n",
       "      <td>malinois</td>\n",
       "      <td>0.138584</td>\n",
       "      <td>True</td>\n",
       "      <td>bloodhound</td>\n",
       "      <td>0.116197</td>\n",
       "      <td>True</td>\n",
       "    </tr>\n",
       "    <tr>\n",
       "      <th>3</th>\n",
       "      <td>666044226329800704</td>\n",
       "      <td>https://pbs.twimg.com/media/CT5Dr8HUEAA-lEu.jpg</td>\n",
       "      <td>1</td>\n",
       "      <td>Rhodesian_ridgeback</td>\n",
       "      <td>0.408143</td>\n",
       "      <td>True</td>\n",
       "      <td>redbone</td>\n",
       "      <td>0.360687</td>\n",
       "      <td>True</td>\n",
       "      <td>miniature_pinscher</td>\n",
       "      <td>0.222752</td>\n",
       "      <td>True</td>\n",
       "    </tr>\n",
       "    <tr>\n",
       "      <th>4</th>\n",
       "      <td>666049248165822465</td>\n",
       "      <td>https://pbs.twimg.com/media/CT5IQmsXIAAKY4A.jpg</td>\n",
       "      <td>1</td>\n",
       "      <td>miniature_pinscher</td>\n",
       "      <td>0.560311</td>\n",
       "      <td>True</td>\n",
       "      <td>Rottweiler</td>\n",
       "      <td>0.243682</td>\n",
       "      <td>True</td>\n",
       "      <td>Doberman</td>\n",
       "      <td>0.154629</td>\n",
       "      <td>True</td>\n",
       "    </tr>\n",
       "  </tbody>\n",
       "</table>\n",
       "</div>"
      ],
      "text/plain": [
       "             tweet_id                                          jpg_url  \\\n",
       "0  666020888022790149  https://pbs.twimg.com/media/CT4udn0WwAA0aMy.jpg   \n",
       "1  666029285002620928  https://pbs.twimg.com/media/CT42GRgUYAA5iDo.jpg   \n",
       "2  666033412701032449  https://pbs.twimg.com/media/CT4521TWwAEvMyu.jpg   \n",
       "3  666044226329800704  https://pbs.twimg.com/media/CT5Dr8HUEAA-lEu.jpg   \n",
       "4  666049248165822465  https://pbs.twimg.com/media/CT5IQmsXIAAKY4A.jpg   \n",
       "\n",
       "   img_num                      p1   p1_conf  p1_dog                  p2  \\\n",
       "0  1        Welsh_springer_spaniel  0.465074  True    collie               \n",
       "1  1        redbone                 0.506826  True    miniature_pinscher   \n",
       "2  1        German_shepherd         0.596461  True    malinois             \n",
       "3  1        Rhodesian_ridgeback     0.408143  True    redbone              \n",
       "4  1        miniature_pinscher      0.560311  True    Rottweiler           \n",
       "\n",
       "    p2_conf  p2_dog                   p3   p3_conf  p3_dog  \n",
       "0  0.156665  True    Shetland_sheepdog    0.061428  True    \n",
       "1  0.074192  True    Rhodesian_ridgeback  0.072010  True    \n",
       "2  0.138584  True    bloodhound           0.116197  True    \n",
       "3  0.360687  True    miniature_pinscher   0.222752  True    \n",
       "4  0.243682  True    Doberman             0.154629  True    "
      ]
     },
     "execution_count": 55,
     "metadata": {},
     "output_type": "execute_result"
    }
   ],
   "source": [
    "#visualize image prediction df \n",
    "img_df.head()"
   ]
  },
  {
   "cell_type": "code",
   "execution_count": 56,
   "metadata": {
    "scrolled": true
   },
   "outputs": [
    {
     "name": "stdout",
     "output_type": "stream",
     "text": [
      "<class 'pandas.core.frame.DataFrame'>\n",
      "RangeIndex: 2075 entries, 0 to 2074\n",
      "Data columns (total 12 columns):\n",
      " #   Column    Non-Null Count  Dtype  \n",
      "---  ------    --------------  -----  \n",
      " 0   tweet_id  2075 non-null   int64  \n",
      " 1   jpg_url   2075 non-null   object \n",
      " 2   img_num   2075 non-null   int64  \n",
      " 3   p1        2075 non-null   object \n",
      " 4   p1_conf   2075 non-null   float64\n",
      " 5   p1_dog    2075 non-null   bool   \n",
      " 6   p2        2075 non-null   object \n",
      " 7   p2_conf   2075 non-null   float64\n",
      " 8   p2_dog    2075 non-null   bool   \n",
      " 9   p3        2075 non-null   object \n",
      " 10  p3_conf   2075 non-null   float64\n",
      " 11  p3_dog    2075 non-null   bool   \n",
      "dtypes: bool(3), float64(3), int64(2), object(4)\n",
      "memory usage: 152.1+ KB\n"
     ]
    }
   ],
   "source": [
    "#get a look at image prediction dataframe summary\n",
    "img_df.info()"
   ]
  },
  {
   "cell_type": "code",
   "execution_count": 57,
   "metadata": {},
   "outputs": [
    {
     "data": {
      "text/html": [
       "<div>\n",
       "<style scoped>\n",
       "    .dataframe tbody tr th:only-of-type {\n",
       "        vertical-align: middle;\n",
       "    }\n",
       "\n",
       "    .dataframe tbody tr th {\n",
       "        vertical-align: top;\n",
       "    }\n",
       "\n",
       "    .dataframe thead th {\n",
       "        text-align: right;\n",
       "    }\n",
       "</style>\n",
       "<table border=\"1\" class=\"dataframe\">\n",
       "  <thead>\n",
       "    <tr style=\"text-align: right;\">\n",
       "      <th></th>\n",
       "      <th>tweet_id</th>\n",
       "      <th>retweet_count</th>\n",
       "      <th>favorite_count</th>\n",
       "    </tr>\n",
       "  </thead>\n",
       "  <tbody>\n",
       "    <tr>\n",
       "      <th>0</th>\n",
       "      <td>892420643555336193</td>\n",
       "      <td>8853</td>\n",
       "      <td>39467</td>\n",
       "    </tr>\n",
       "    <tr>\n",
       "      <th>1</th>\n",
       "      <td>892177421306343426</td>\n",
       "      <td>6514</td>\n",
       "      <td>33819</td>\n",
       "    </tr>\n",
       "    <tr>\n",
       "      <th>2</th>\n",
       "      <td>891815181378084864</td>\n",
       "      <td>4328</td>\n",
       "      <td>25461</td>\n",
       "    </tr>\n",
       "    <tr>\n",
       "      <th>3</th>\n",
       "      <td>891689557279858688</td>\n",
       "      <td>8964</td>\n",
       "      <td>42908</td>\n",
       "    </tr>\n",
       "    <tr>\n",
       "      <th>4</th>\n",
       "      <td>891327558926688256</td>\n",
       "      <td>9774</td>\n",
       "      <td>41048</td>\n",
       "    </tr>\n",
       "  </tbody>\n",
       "</table>\n",
       "</div>"
      ],
      "text/plain": [
       "             tweet_id  retweet_count  favorite_count\n",
       "0  892420643555336193  8853           39467         \n",
       "1  892177421306343426  6514           33819         \n",
       "2  891815181378084864  4328           25461         \n",
       "3  891689557279858688  8964           42908         \n",
       "4  891327558926688256  9774           41048         "
      ]
     },
     "execution_count": 57,
     "metadata": {},
     "output_type": "execute_result"
    }
   ],
   "source": [
    "#visualize image prediction df \n",
    "api_df.head()"
   ]
  },
  {
   "cell_type": "code",
   "execution_count": 58,
   "metadata": {},
   "outputs": [
    {
     "name": "stdout",
     "output_type": "stream",
     "text": [
      "<class 'pandas.core.frame.DataFrame'>\n",
      "RangeIndex: 2354 entries, 0 to 2353\n",
      "Data columns (total 3 columns):\n",
      " #   Column          Non-Null Count  Dtype\n",
      "---  ------          --------------  -----\n",
      " 0   tweet_id        2354 non-null   int64\n",
      " 1   retweet_count   2354 non-null   int64\n",
      " 2   favorite_count  2354 non-null   int64\n",
      "dtypes: int64(3)\n",
      "memory usage: 55.3 KB\n"
     ]
    }
   ],
   "source": [
    "#get a look at image prediction dataframe summary\n",
    "api_df.info()"
   ]
  },
  {
   "cell_type": "markdown",
   "metadata": {},
   "source": [
    "## Cleaning Process\n",
    "<a id=\"clean\"></a>\n",
    "With the issues in the assessment process we are going to fix them to finally get clean dataframes "
   ]
  },
  {
   "cell_type": "code",
   "execution_count": 59,
   "metadata": {},
   "outputs": [],
   "source": [
    "#copy dataframes to be ready to clean them\n",
    "arch_clean = archive_df.copy()\n",
    "img_clean = img_df.copy()"
   ]
  },
  {
   "cell_type": "markdown",
   "metadata": {},
   "source": [
    "##### Define\n",
    "Remove tags and unnecessary data in source column\n",
    "- split the value by separator '>' then extract the right info by slicing "
   ]
  },
  {
   "cell_type": "markdown",
   "metadata": {},
   "source": [
    "##### Code"
   ]
  },
  {
   "cell_type": "code",
   "execution_count": 60,
   "metadata": {},
   "outputs": [],
   "source": [
    "#remove html tags from source column \n",
    "arch_clean['source'] = arch_clean['source'].apply(lambda x:x.split('>')[1][:-3]) "
   ]
  },
  {
   "cell_type": "markdown",
   "metadata": {},
   "source": [
    "##### Test"
   ]
  },
  {
   "cell_type": "code",
   "execution_count": 61,
   "metadata": {},
   "outputs": [
    {
     "data": {
      "text/plain": [
       "0    Twitter for iPhone\n",
       "1    Twitter for iPhone\n",
       "2    Twitter for iPhone\n",
       "3    Twitter for iPhone\n",
       "4    Twitter for iPhone\n",
       "Name: source, dtype: object"
      ]
     },
     "execution_count": 61,
     "metadata": {},
     "output_type": "execute_result"
    }
   ],
   "source": [
    "arch_clean['source'].head()"
   ]
  },
  {
   "cell_type": "markdown",
   "metadata": {},
   "source": [
    "##### Define\n",
    "Split timestamp column into date and time columns\n",
    "- convert timestamp column to datetime object "
   ]
  },
  {
   "cell_type": "markdown",
   "metadata": {},
   "source": [
    "##### Code"
   ]
  },
  {
   "cell_type": "code",
   "execution_count": 62,
   "metadata": {},
   "outputs": [],
   "source": [
    "#change timestamp column type to be datetime object  \n",
    "arch_clean['timestamp']=pd.to_datetime(arch_clean['timestamp'])"
   ]
  },
  {
   "cell_type": "markdown",
   "metadata": {},
   "source": [
    "##### Test"
   ]
  },
  {
   "cell_type": "code",
   "execution_count": 63,
   "metadata": {},
   "outputs": [
    {
     "data": {
      "text/plain": [
       "0   2017-08-01 16:23:56+00:00\n",
       "1   2017-08-01 00:17:27+00:00\n",
       "2   2017-07-31 00:18:03+00:00\n",
       "3   2017-07-30 15:58:51+00:00\n",
       "4   2017-07-29 16:00:24+00:00\n",
       "Name: timestamp, dtype: datetime64[ns, UTC]"
      ]
     },
     "execution_count": 63,
     "metadata": {},
     "output_type": "execute_result"
    }
   ],
   "source": [
    "arch_clean['timestamp'].head()"
   ]
  },
  {
   "cell_type": "markdown",
   "metadata": {},
   "source": [
    "##### Define\n",
    "Remove rows that are replies, retweet or have no images \n",
    "- filter the archive df by image df\n",
    "- drop all rows that have value in 'in_reply_to_status_id'\n",
    "- drop all rows that have value in 'retweeted_status_id'\n",
    "- drop all columns that have retweet or replies info"
   ]
  },
  {
   "cell_type": "markdown",
   "metadata": {},
   "source": [
    "##### Code"
   ]
  },
  {
   "cell_type": "code",
   "execution_count": 64,
   "metadata": {
    "scrolled": true
   },
   "outputs": [],
   "source": [
    "#remove rows with no images\n",
    "tw_img = list(img_clean.tweet_id.unique())\n",
    "arch_clean = arch_clean[arch_clean.tweet_id.isin(tw_img)]\n",
    "\n",
    "#remove replies and retweets\n",
    "arch_clean = arch_clean[arch_clean.in_reply_to_status_id.isnull()]\n",
    "arch_clean = arch_clean[arch_clean.retweeted_status_id.isnull()]\n"
   ]
  },
  {
   "cell_type": "code",
   "execution_count": 65,
   "metadata": {},
   "outputs": [],
   "source": [
    "#remove columns with no data in archive data frame\n",
    "arch_clean.drop(['retweeted_status_id','retweeted_status_user_id','retweeted_status_timestamp'], axis = 1,inplace=True)\n",
    "arch_clean.drop(['in_reply_to_status_id','in_reply_to_user_id'], axis = 1,inplace=True)"
   ]
  },
  {
   "cell_type": "markdown",
   "metadata": {},
   "source": [
    "##### Test"
   ]
  },
  {
   "cell_type": "code",
   "execution_count": 66,
   "metadata": {},
   "outputs": [
    {
     "name": "stdout",
     "output_type": "stream",
     "text": [
      "<class 'pandas.core.frame.DataFrame'>\n",
      "Int64Index: 1971 entries, 0 to 2355\n",
      "Data columns (total 12 columns):\n",
      " #   Column              Non-Null Count  Dtype              \n",
      "---  ------              --------------  -----              \n",
      " 0   tweet_id            1971 non-null   int64              \n",
      " 1   timestamp           1971 non-null   datetime64[ns, UTC]\n",
      " 2   source              1971 non-null   object             \n",
      " 3   text                1971 non-null   object             \n",
      " 4   expanded_urls       1971 non-null   object             \n",
      " 5   rating_numerator    1971 non-null   int64              \n",
      " 6   rating_denominator  1971 non-null   int64              \n",
      " 7   name                1971 non-null   object             \n",
      " 8   doggo               1971 non-null   object             \n",
      " 9   floofer             1971 non-null   object             \n",
      " 10  pupper              1971 non-null   object             \n",
      " 11  puppo               1971 non-null   object             \n",
      "dtypes: datetime64[ns, UTC](1), int64(3), object(8)\n",
      "memory usage: 200.2+ KB\n"
     ]
    }
   ],
   "source": [
    "arch_clean.info()"
   ]
  },
  {
   "cell_type": "markdown",
   "metadata": {},
   "source": [
    "##### Define\n",
    "Compine doggo, floofer, pupper and puppo columns to one column\n",
    "- change None values to empty string\n",
    "- make one column using '+' operator\n",
    "- drop old columns\n",
    "- replace empty string with NaN \n",
    "- seperate compined stages by '-'"
   ]
  },
  {
   "cell_type": "markdown",
   "metadata": {},
   "source": [
    "##### Code"
   ]
  },
  {
   "cell_type": "code",
   "execution_count": 67,
   "metadata": {},
   "outputs": [],
   "source": [
    "#change None values in doggo, floofer, pupper and puppo columns to empty string\n",
    "arch_clean['doggo'].replace({\"None\": \"\"}, inplace=True)\n",
    "arch_clean['floofer'].replace({\"None\": \"\"}, inplace=True)\n",
    "arch_clean['pupper'].replace({\"None\": \"\"}, inplace=True)\n",
    "arch_clean['puppo'].replace({\"None\": \"\"}, inplace=True)\n",
    "\n",
    "#make one column for doggo, floofer, pupper and puppo columns\n",
    "arch_clean['dog_breed'] = arch_clean['doggo'] + arch_clean['floofer'] + arch_clean['pupper'] + arch_clean['puppo']\n",
    "\n",
    "#drop old columns\n",
    "arch_clean.drop(['doggo','floofer', 'pupper', 'puppo'], axis=1,inplace=True)\n",
    "\n",
    "#replace empty values with NaN\n",
    "arch_clean['dog_breed'].replace({\"\": np.nan}, inplace=True)\n",
    "\n",
    "#seperate mixed stages\n",
    "arch_clean.loc[arch_clean.dog_breed=='doggopupper','dog_breed']='doggo-pupper'\n",
    "arch_clean.loc[arch_clean.dog_breed=='doggopuppo','dog_breed']='doggo-puppo'\n",
    "arch_clean.loc[arch_clean.dog_breed=='doggofloofer','dog_breed']='doggo-floofer'"
   ]
  },
  {
   "cell_type": "markdown",
   "metadata": {},
   "source": [
    "##### Test"
   ]
  },
  {
   "cell_type": "code",
   "execution_count": 68,
   "metadata": {},
   "outputs": [
    {
     "name": "stdout",
     "output_type": "stream",
     "text": [
      "<class 'pandas.core.frame.DataFrame'>\n",
      "Int64Index: 1971 entries, 0 to 2355\n",
      "Data columns (total 9 columns):\n",
      " #   Column              Non-Null Count  Dtype              \n",
      "---  ------              --------------  -----              \n",
      " 0   tweet_id            1971 non-null   int64              \n",
      " 1   timestamp           1971 non-null   datetime64[ns, UTC]\n",
      " 2   source              1971 non-null   object             \n",
      " 3   text                1971 non-null   object             \n",
      " 4   expanded_urls       1971 non-null   object             \n",
      " 5   rating_numerator    1971 non-null   int64              \n",
      " 6   rating_denominator  1971 non-null   int64              \n",
      " 7   name                1971 non-null   object             \n",
      " 8   dog_breed           303 non-null    object             \n",
      "dtypes: datetime64[ns, UTC](1), int64(3), object(5)\n",
      "memory usage: 154.0+ KB\n"
     ]
    },
    {
     "data": {
      "text/plain": [
       "pupper           201\n",
       "doggo            63 \n",
       "puppo            22 \n",
       "doggo-pupper     8  \n",
       "floofer          7  \n",
       "doggo-floofer    1  \n",
       "doggo-puppo      1  \n",
       "Name: dog_breed, dtype: int64"
      ]
     },
     "execution_count": 68,
     "metadata": {},
     "output_type": "execute_result"
    }
   ],
   "source": [
    "arch_clean.info()\n",
    "arch_clean['dog_breed'].value_counts()"
   ]
  },
  {
   "cell_type": "markdown",
   "metadata": {},
   "source": [
    "##### Define\n",
    "Change the names of image prediction df\n",
    "- make list with new names\n",
    "- assign the list to the df"
   ]
  },
  {
   "cell_type": "markdown",
   "metadata": {},
   "source": [
    "##### Code"
   ]
  },
  {
   "cell_type": "code",
   "execution_count": 69,
   "metadata": {},
   "outputs": [],
   "source": [
    "#renaming the dataset columns\n",
    "cols = ['tweet_id', 'jpg_url', 'img_num', \n",
    "       'prediction_1', 'confidence_1', 'breed_1',\n",
    "       'prediction_2', 'confidence_2', 'breed_2',\n",
    "       'prediction_3', 'confidence_3', 'breed_3']\n",
    "img_clean.columns = cols"
   ]
  },
  {
   "cell_type": "markdown",
   "metadata": {},
   "source": [
    "##### Test"
   ]
  },
  {
   "cell_type": "code",
   "execution_count": 70,
   "metadata": {},
   "outputs": [
    {
     "data": {
      "text/html": [
       "<div>\n",
       "<style scoped>\n",
       "    .dataframe tbody tr th:only-of-type {\n",
       "        vertical-align: middle;\n",
       "    }\n",
       "\n",
       "    .dataframe tbody tr th {\n",
       "        vertical-align: top;\n",
       "    }\n",
       "\n",
       "    .dataframe thead th {\n",
       "        text-align: right;\n",
       "    }\n",
       "</style>\n",
       "<table border=\"1\" class=\"dataframe\">\n",
       "  <thead>\n",
       "    <tr style=\"text-align: right;\">\n",
       "      <th></th>\n",
       "      <th>tweet_id</th>\n",
       "      <th>jpg_url</th>\n",
       "      <th>img_num</th>\n",
       "      <th>prediction_1</th>\n",
       "      <th>confidence_1</th>\n",
       "      <th>breed_1</th>\n",
       "      <th>prediction_2</th>\n",
       "      <th>confidence_2</th>\n",
       "      <th>breed_2</th>\n",
       "      <th>prediction_3</th>\n",
       "      <th>confidence_3</th>\n",
       "      <th>breed_3</th>\n",
       "    </tr>\n",
       "  </thead>\n",
       "  <tbody>\n",
       "    <tr>\n",
       "      <th>0</th>\n",
       "      <td>666020888022790149</td>\n",
       "      <td>https://pbs.twimg.com/media/CT4udn0WwAA0aMy.jpg</td>\n",
       "      <td>1</td>\n",
       "      <td>Welsh_springer_spaniel</td>\n",
       "      <td>0.465074</td>\n",
       "      <td>True</td>\n",
       "      <td>collie</td>\n",
       "      <td>0.156665</td>\n",
       "      <td>True</td>\n",
       "      <td>Shetland_sheepdog</td>\n",
       "      <td>0.061428</td>\n",
       "      <td>True</td>\n",
       "    </tr>\n",
       "    <tr>\n",
       "      <th>1</th>\n",
       "      <td>666029285002620928</td>\n",
       "      <td>https://pbs.twimg.com/media/CT42GRgUYAA5iDo.jpg</td>\n",
       "      <td>1</td>\n",
       "      <td>redbone</td>\n",
       "      <td>0.506826</td>\n",
       "      <td>True</td>\n",
       "      <td>miniature_pinscher</td>\n",
       "      <td>0.074192</td>\n",
       "      <td>True</td>\n",
       "      <td>Rhodesian_ridgeback</td>\n",
       "      <td>0.072010</td>\n",
       "      <td>True</td>\n",
       "    </tr>\n",
       "    <tr>\n",
       "      <th>2</th>\n",
       "      <td>666033412701032449</td>\n",
       "      <td>https://pbs.twimg.com/media/CT4521TWwAEvMyu.jpg</td>\n",
       "      <td>1</td>\n",
       "      <td>German_shepherd</td>\n",
       "      <td>0.596461</td>\n",
       "      <td>True</td>\n",
       "      <td>malinois</td>\n",
       "      <td>0.138584</td>\n",
       "      <td>True</td>\n",
       "      <td>bloodhound</td>\n",
       "      <td>0.116197</td>\n",
       "      <td>True</td>\n",
       "    </tr>\n",
       "    <tr>\n",
       "      <th>3</th>\n",
       "      <td>666044226329800704</td>\n",
       "      <td>https://pbs.twimg.com/media/CT5Dr8HUEAA-lEu.jpg</td>\n",
       "      <td>1</td>\n",
       "      <td>Rhodesian_ridgeback</td>\n",
       "      <td>0.408143</td>\n",
       "      <td>True</td>\n",
       "      <td>redbone</td>\n",
       "      <td>0.360687</td>\n",
       "      <td>True</td>\n",
       "      <td>miniature_pinscher</td>\n",
       "      <td>0.222752</td>\n",
       "      <td>True</td>\n",
       "    </tr>\n",
       "    <tr>\n",
       "      <th>4</th>\n",
       "      <td>666049248165822465</td>\n",
       "      <td>https://pbs.twimg.com/media/CT5IQmsXIAAKY4A.jpg</td>\n",
       "      <td>1</td>\n",
       "      <td>miniature_pinscher</td>\n",
       "      <td>0.560311</td>\n",
       "      <td>True</td>\n",
       "      <td>Rottweiler</td>\n",
       "      <td>0.243682</td>\n",
       "      <td>True</td>\n",
       "      <td>Doberman</td>\n",
       "      <td>0.154629</td>\n",
       "      <td>True</td>\n",
       "    </tr>\n",
       "  </tbody>\n",
       "</table>\n",
       "</div>"
      ],
      "text/plain": [
       "             tweet_id                                          jpg_url  \\\n",
       "0  666020888022790149  https://pbs.twimg.com/media/CT4udn0WwAA0aMy.jpg   \n",
       "1  666029285002620928  https://pbs.twimg.com/media/CT42GRgUYAA5iDo.jpg   \n",
       "2  666033412701032449  https://pbs.twimg.com/media/CT4521TWwAEvMyu.jpg   \n",
       "3  666044226329800704  https://pbs.twimg.com/media/CT5Dr8HUEAA-lEu.jpg   \n",
       "4  666049248165822465  https://pbs.twimg.com/media/CT5IQmsXIAAKY4A.jpg   \n",
       "\n",
       "   img_num            prediction_1  confidence_1  breed_1        prediction_2  \\\n",
       "0  1        Welsh_springer_spaniel  0.465074      True     collie               \n",
       "1  1        redbone                 0.506826      True     miniature_pinscher   \n",
       "2  1        German_shepherd         0.596461      True     malinois             \n",
       "3  1        Rhodesian_ridgeback     0.408143      True     redbone              \n",
       "4  1        miniature_pinscher      0.560311      True     Rottweiler           \n",
       "\n",
       "   confidence_2  breed_2         prediction_3  confidence_3  breed_3  \n",
       "0  0.156665      True     Shetland_sheepdog    0.061428      True     \n",
       "1  0.074192      True     Rhodesian_ridgeback  0.072010      True     \n",
       "2  0.138584      True     bloodhound           0.116197      True     \n",
       "3  0.360687      True     miniature_pinscher   0.222752      True     \n",
       "4  0.243682      True     Doberman             0.154629      True     "
      ]
     },
     "execution_count": 70,
     "metadata": {},
     "output_type": "execute_result"
    }
   ],
   "source": [
    "img_clean.head()"
   ]
  },
  {
   "cell_type": "markdown",
   "metadata": {},
   "source": [
    "##### Define\n",
    "Correct wrong values of rating_numerator and rating_denominator\n",
    "- write the pattern to extract rates from text using regex\n",
    "- get the right rate from the extracted values\n",
    "- get the no. of dogs for rates > 10\n",
    "- get the right rate for one dog\n",
    "- investigate suspicious rates for manual tweaking"
   ]
  },
  {
   "cell_type": "markdown",
   "metadata": {},
   "source": [
    "##### Code"
   ]
  },
  {
   "cell_type": "code",
   "execution_count": 71,
   "metadata": {},
   "outputs": [],
   "source": [
    "# fix rating_dominator with wrong extracted rate\n",
    "pattern = re.compile('(\\d+\\.?\\d?\\d?)\\/(\\d{1,3})')\n",
    "test = arch_clean.text.str.findall(pattern)\n",
    "arch_clean['rating_denominator'] = test.apply(lambda x: x[1][1] if len(x)>1 else x[0][1]).astype(int)\n",
    "\n",
    "# fix rating_numerator with wrong extracted rate\n",
    "arch_clean['rating_numerator'] = test.apply(lambda x: x[1][0] if len(x)>1 else x[0][0]).astype(float)\n",
    "\n",
    "# fix rating_dominator that include more than one dog\n",
    "dog_no = arch_clean.rating_denominator.apply(lambda x: x/10)\n",
    "arch_clean.rating_denominator = arch_clean.rating_denominator/dog_no\n",
    "\n",
    "# fix rating_numerator that include more than one dog\n",
    "arch_clean.rating_numerator = arch_clean.rating_numerator/dog_no"
   ]
  },
  {
   "cell_type": "code",
   "execution_count": 72,
   "metadata": {
    "scrolled": true
   },
   "outputs": [],
   "source": [
    "#more investigation to outliers\n",
    "arch_clean[arch_clean.rating_numerator==420]\n",
    "arch_clean[arch_clean.rating_numerator==0]\n",
    "\n",
    "#drop row 2074, 765, 883, 912, 2305, 2310, 2316 as it's not a dog\n",
    "arch_clean.drop(2074,axis=0,inplace=True)\n",
    "arch_clean.drop(765,axis=0,inplace=True)\n",
    "arch_clean.drop(883,axis=0,inplace=True)\n",
    "arch_clean.drop(912,axis=0,inplace=True)\n",
    "arch_clean.drop(2305,axis=0,inplace=True)\n",
    "arch_clean.drop(2310,axis=0,inplace=True)\n",
    "arch_clean.drop(2316,axis=0,inplace=True)\n",
    "\n",
    "#fix the row with rate 0 as it's not the right rate the right rate is 11\n",
    "arch_clean.loc[315,'rating_numerator'] = 11\n",
    "arch_clean.loc[2216,'rating_numerator'] = 8\n",
    "arch_clean.loc[1359,'rating_numerator'] = 9\n",
    "\n",
    "#drop rates under 2\n",
    "arch_clean = arch_clean.drop(arch_clean[arch_clean['rating_numerator']<=2].index)"
   ]
  },
  {
   "cell_type": "markdown",
   "metadata": {},
   "source": [
    "##### Test"
   ]
  },
  {
   "cell_type": "code",
   "execution_count": 73,
   "metadata": {},
   "outputs": [
    {
     "data": {
      "text/html": [
       "<div>\n",
       "<style scoped>\n",
       "    .dataframe tbody tr th:only-of-type {\n",
       "        vertical-align: middle;\n",
       "    }\n",
       "\n",
       "    .dataframe tbody tr th {\n",
       "        vertical-align: top;\n",
       "    }\n",
       "\n",
       "    .dataframe thead th {\n",
       "        text-align: right;\n",
       "    }\n",
       "</style>\n",
       "<table border=\"1\" class=\"dataframe\">\n",
       "  <thead>\n",
       "    <tr style=\"text-align: right;\">\n",
       "      <th></th>\n",
       "      <th>text</th>\n",
       "      <th>rating_numerator</th>\n",
       "      <th>rating_denominator</th>\n",
       "    </tr>\n",
       "  </thead>\n",
       "  <tbody>\n",
       "    <tr>\n",
       "      <th>0</th>\n",
       "      <td>This is Phineas. He's a mystical boy. Only ever appears in the hole of a donut. 13/10 https://t.co/MgUWQ76dJU</td>\n",
       "      <td>13.0</td>\n",
       "      <td>10.0</td>\n",
       "    </tr>\n",
       "    <tr>\n",
       "      <th>1</th>\n",
       "      <td>This is Tilly. She's just checking pup on you. Hopes you're doing ok. If not, she's available for pats, snugs, boops, the whole bit. 13/10 https://t.co/0Xxu71qeIV</td>\n",
       "      <td>13.0</td>\n",
       "      <td>10.0</td>\n",
       "    </tr>\n",
       "    <tr>\n",
       "      <th>2</th>\n",
       "      <td>This is Archie. He is a rare Norwegian Pouncing Corgo. Lives in the tall grass. You never know when one may strike. 12/10 https://t.co/wUnZnhtVJB</td>\n",
       "      <td>12.0</td>\n",
       "      <td>10.0</td>\n",
       "    </tr>\n",
       "    <tr>\n",
       "      <th>3</th>\n",
       "      <td>This is Darla. She commenced a snooze mid meal. 13/10 happens to the best of us https://t.co/tD36da7qLQ</td>\n",
       "      <td>13.0</td>\n",
       "      <td>10.0</td>\n",
       "    </tr>\n",
       "    <tr>\n",
       "      <th>4</th>\n",
       "      <td>This is Franklin. He would like you to stop calling him \"cute.\" He is a very fierce shark and should be respected as such. 12/10 #BarkWeek https://t.co/AtUZn91f7f</td>\n",
       "      <td>12.0</td>\n",
       "      <td>10.0</td>\n",
       "    </tr>\n",
       "  </tbody>\n",
       "</table>\n",
       "</div>"
      ],
      "text/plain": [
       "                                                                                                                                                                 text  \\\n",
       "0  This is Phineas. He's a mystical boy. Only ever appears in the hole of a donut. 13/10 https://t.co/MgUWQ76dJU                                                        \n",
       "1  This is Tilly. She's just checking pup on you. Hopes you're doing ok. If not, she's available for pats, snugs, boops, the whole bit. 13/10 https://t.co/0Xxu71qeIV   \n",
       "2  This is Archie. He is a rare Norwegian Pouncing Corgo. Lives in the tall grass. You never know when one may strike. 12/10 https://t.co/wUnZnhtVJB                    \n",
       "3  This is Darla. She commenced a snooze mid meal. 13/10 happens to the best of us https://t.co/tD36da7qLQ                                                              \n",
       "4  This is Franklin. He would like you to stop calling him \"cute.\" He is a very fierce shark and should be respected as such. 12/10 #BarkWeek https://t.co/AtUZn91f7f   \n",
       "\n",
       "   rating_numerator  rating_denominator  \n",
       "0  13.0              10.0                \n",
       "1  13.0              10.0                \n",
       "2  12.0              10.0                \n",
       "3  13.0              10.0                \n",
       "4  12.0              10.0                "
      ]
     },
     "execution_count": 73,
     "metadata": {},
     "output_type": "execute_result"
    }
   ],
   "source": [
    "arch_clean[['text','rating_numerator','rating_denominator']].head()"
   ]
  },
  {
   "cell_type": "code",
   "execution_count": 74,
   "metadata": {},
   "outputs": [
    {
     "data": {
      "text/plain": [
       "12.000000      449\n",
       "10.000000      411\n",
       "11.000000      399\n",
       "13.000000      255\n",
       "9.000000       151\n",
       "8.000000       99 \n",
       "7.000000       54 \n",
       "14.000000      34 \n",
       "6.000000       33 \n",
       "5.000000       31 \n",
       "3.000000       17 \n",
       "4.000000       13 \n",
       "9.750000       1  \n",
       "11.270000      1  \n",
       "13.500000      1  \n",
       "34.285714      1  \n",
       "11.260000      1  \n",
       "1776.000000    1  \n",
       "Name: rating_numerator, dtype: int64"
      ]
     },
     "execution_count": 74,
     "metadata": {},
     "output_type": "execute_result"
    }
   ],
   "source": [
    "arch_clean.rating_numerator.value_counts()"
   ]
  },
  {
   "cell_type": "code",
   "execution_count": 75,
   "metadata": {},
   "outputs": [
    {
     "data": {
      "text/plain": [
       "10.0    1952\n",
       "Name: rating_denominator, dtype: int64"
      ]
     },
     "execution_count": 75,
     "metadata": {},
     "output_type": "execute_result"
    }
   ],
   "source": [
    "arch_clean.rating_denominator.value_counts()"
   ]
  },
  {
   "cell_type": "markdown",
   "metadata": {},
   "source": [
    "##### Define\n",
    "Merge all dataframes to one dataframe\n",
    "- filter api df and img df by archive df 'tweet_id'\n",
    "- merge dataframes on 'tweet_id'\n",
    "- save the new dataframe to csv file"
   ]
  },
  {
   "cell_type": "markdown",
   "metadata": {},
   "source": [
    "##### Code"
   ]
  },
  {
   "cell_type": "code",
   "execution_count": 76,
   "metadata": {},
   "outputs": [],
   "source": [
    "# make image prediction and api dataframe to have the same row as archive dataframe \n",
    "img_clean = img_clean[img_clean.tweet_id.isin(list(arch_clean.tweet_id.unique()))]\n",
    "api_df = api_df[api_df.tweet_id.isin(list(arch_clean.tweet_id.unique()))]\n",
    "\n",
    "# merge image prediction and archive dataframes\n",
    "twitter_archive_master = pd.merge(arch_clean, img_clean, on='tweet_id')\n",
    "twitter_archive_master = pd.merge(twitter_archive_master, api_df, on='tweet_id')\n",
    "\n",
    "#save the final dataframes to csv file\n",
    "twitter_archive_master.to_csv('twitter_archive_master.csv',index=False)"
   ]
  },
  {
   "cell_type": "markdown",
   "metadata": {},
   "source": [
    "##### Test"
   ]
  },
  {
   "cell_type": "code",
   "execution_count": 77,
   "metadata": {},
   "outputs": [
    {
     "name": "stdout",
     "output_type": "stream",
     "text": [
      "<class 'pandas.core.frame.DataFrame'>\n",
      "Int64Index: 1952 entries, 0 to 1951\n",
      "Data columns (total 22 columns):\n",
      " #   Column              Non-Null Count  Dtype              \n",
      "---  ------              --------------  -----              \n",
      " 0   tweet_id            1952 non-null   int64              \n",
      " 1   timestamp           1952 non-null   datetime64[ns, UTC]\n",
      " 2   source              1952 non-null   object             \n",
      " 3   text                1952 non-null   object             \n",
      " 4   expanded_urls       1952 non-null   object             \n",
      " 5   rating_numerator    1952 non-null   float64            \n",
      " 6   rating_denominator  1952 non-null   float64            \n",
      " 7   name                1952 non-null   object             \n",
      " 8   dog_breed           303 non-null    object             \n",
      " 9   jpg_url             1952 non-null   object             \n",
      " 10  img_num             1952 non-null   int64              \n",
      " 11  prediction_1        1952 non-null   object             \n",
      " 12  confidence_1        1952 non-null   float64            \n",
      " 13  breed_1             1952 non-null   bool               \n",
      " 14  prediction_2        1952 non-null   object             \n",
      " 15  confidence_2        1952 non-null   float64            \n",
      " 16  breed_2             1952 non-null   bool               \n",
      " 17  prediction_3        1952 non-null   object             \n",
      " 18  confidence_3        1952 non-null   float64            \n",
      " 19  breed_3             1952 non-null   bool               \n",
      " 20  retweet_count       1952 non-null   int64              \n",
      " 21  favorite_count      1952 non-null   int64              \n",
      "dtypes: bool(3), datetime64[ns, UTC](1), float64(5), int64(4), object(9)\n",
      "memory usage: 310.7+ KB\n"
     ]
    }
   ],
   "source": [
    "twitter_archive_master.info()"
   ]
  },
  {
   "cell_type": "markdown",
   "metadata": {},
   "source": [
    "# Data analysis and visulization\n",
    "Finally we came to the last part of the project and the most useful one where we get insights and information that we will lead our thoughts.\n",
    "\n",
    "First i think it's important get more info about WeRateDogs, is the account active and posts periodically?\n",
    "what about interactions on these posts? \n",
    "\n",
    "As an animal lover but has no knowledge about dog i'm interested to know in such community of dog lovers what is the most common dog breed between them and do that dog breed get high rating or interactions?\n",
    "on the other side there are dog stage..which stage people prefer most?\n",
    "\n",
    "Let summarize to specific questions to be more clear.\n",
    "we will answer the following questions:\n",
    "1. What's rate of account posts over time?\n",
    "2. Are engagements with posts increase over time? \n",
    "3. What the most common dog breed appeared in tweets?\n",
    "4. Which breed got most intractions?\n",
    "5. Which breed got most retweets?\n",
    "6. Which dog stage has more ratings?"
   ]
  },
  {
   "cell_type": "markdown",
   "metadata": {},
   "source": [
    "### 1. What's rate of account posts over time?"
   ]
  },
  {
   "attachments": {
    "image.png": {
     "image/png": "[encoded data removed]"
    }
   },
   "cell_type": "markdown",
   "metadata": {},
   "source": [
    "![image.png](attachment:image.png)"
   ]
  },
  {
   "cell_type": "markdown",
   "metadata": {},
   "source": [
    "### 2. Do engagements with posts increase over time?"
   ]
  },
  {
   "attachments": {
    "image-2.png": {
     "image/png": "[encoded data removed]"
    }
   },
   "cell_type": "markdown",
   "metadata": {},
   "source": [
    "![image-2.png](attachment:image-2.png)"
   ]
  },
  {
   "cell_type": "markdown",
   "metadata": {},
   "source": [
    "Interesting..interactions increase despite number of post on the account decrease over time.\n",
    "I think it might indicate high quality of posts. "
   ]
  },
  {
   "cell_type": "markdown",
   "metadata": {},
   "source": [
    "### 3. what the most common dog breed appeared in tweets?"
   ]
  },
  {
   "cell_type": "markdown",
   "metadata": {},
   "source": [
    "```\n",
    "golden_retriever      137\n",
    "Labrador_retriever     94\n",
    "Pembroke               88\n",
    "Chihuahua              78\n",
    "pug                    54\n",
    "                     ... \n",
    "loupe                   1\n",
    "trombone                1\n",
    "school_bus              1\n",
    "espresso                1\n",
    "starfish                1\n",
    "Name: prediction_1, Length: 365, dtype: int64\n",
    "```"
   ]
  },
  {
   "cell_type": "markdown",
   "metadata": {},
   "source": [
    " Golden retriever is the most common dog breed and Labrador retrieveris the second most common breed .. let's get more insights  about dog breeds."
   ]
  },
  {
   "cell_type": "markdown",
   "metadata": {},
   "source": [
    "### 4. Which breed got most intractions?"
   ]
  },
  {
   "cell_type": "markdown",
   "metadata": {},
   "source": [
    "```\n",
    "        prediction_1\tfavorite_count\n",
    "306\t Lakeland_terrier       132810\n",
    "766\t Labrador_retriever\t 131075\n",
    "58\t  English_springer\t   107956\n",
    "397\t Chihuahua\t          107015\n",
    "108     French_bulldog\t     106827\n",
    "...\t...\t...\n",
    "1941\tGordon_setter\t154\n",
    "1924\ttoy_terrier\t129\n",
    "1925\tblack-and-tan_coonhound\t113\n",
    "1935\tdesktop_computer\t108\n",
    "1918\tcurly-coated_retriever\t107\n",
    "```"
   ]
  },
  {
   "cell_type": "markdown",
   "metadata": {},
   "source": [
    "Lakeland terrier is the most breed that got interactions"
   ]
  },
  {
   "cell_type": "markdown",
   "metadata": {},
   "source": [
    "### 5. Which breed got most retweets?"
   ]
  },
  {
   "cell_type": "markdown",
   "metadata": {},
   "source": [
    "```\n",
    "     prediction_1\tretweet_count\n",
    "766\t Labrador_retriever\t79515\n",
    "397\t Chihuahua       \t56625\n",
    "801 \tEskimo_dog      \t52360\n",
    "306 \tLakeland_terrier\t48265\n",
    "58  \tEnglish_springer\t45849\n",
    "...\t...\t...\n",
    "1924\ttoy_terrier      \t48\n",
    "1819\tcrash_helmet    \t45\n",
    "1925\tblack-and-tan_coonhound\t44\n",
    "1935\tdesktop_computer\t37\n",
    "1918\tcurly-coated_retriever\t23\n",
    "```"
   ]
  },
  {
   "cell_type": "markdown",
   "metadata": {},
   "source": [
    "Labrador retriever got more retweets than others\n",
    "Despite  Golden retriever appears more in tweets the interactions on its images not event in the top five!\n",
    "Labrador retriever is in a good poistion in both popularity in posts and interactions!"
   ]
  },
  {
   "cell_type": "markdown",
   "metadata": {},
   "source": [
    "### 6. Which dog stage has more ratings ?"
   ]
  },
  {
   "attachments": {
    "image-2.png": {
     "image/png": "[encoded data removed]"
    }
   },
   "cell_type": "markdown",
   "metadata": {},
   "source": [
    "![image-2.png](attachment:image-2.png)"
   ]
  },
  {
   "cell_type": "markdown",
   "metadata": {},
   "source": [
    "Doggo stage has more ratings than other stages..it seems like people perfer doggo on other stages."
   ]
  },
  {
   "cell_type": "markdown",
   "metadata": {},
   "source": [
    "### Conclusion\n",
    "We go through all steps to analyse the data,other work in cleaning and visualization processes can be done on the data and these insights can inspire others to more investigations and more accurate results."
   ]
  }
 ],
 "metadata": {
  "kernelspec": {
   "display_name": "Python 3",
   "language": "python",
   "name": "python3"
  },
  "language_info": {
   "codemirror_mode": {
    "name": "ipython",
    "version": 3
   },
   "file_extension": ".py",
   "mimetype": "text/x-python",
   "name": "python",
   "nbconvert_exporter": "python",
   "pygments_lexer": "ipython3",
   "version": "3.8.5"
  }
 },
 "nbformat": 4,
 "nbformat_minor": 4
}
